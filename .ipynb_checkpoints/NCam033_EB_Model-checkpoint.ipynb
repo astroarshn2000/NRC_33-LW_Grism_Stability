{
 "cells": [
  {
   "cell_type": "markdown",
   "id": "a49dd72e",
   "metadata": {},
   "source": [
    "# CAR-33 EB Model "
   ]
  },
  {
   "cell_type": "markdown",
   "id": "5f48f030",
   "metadata": {},
   "source": [
    "The nominal target for these observations will be the HD 140982 system. While this target’s visibility window is misaligned with the expected commissioning dates (see visibility above), we also have a backup target: HD 5687.\n",
    "\n",
    "HD 140982A shows (0.86%) eclipses in archival data from the KELT transit survey. The KELT pixel scale (23”/px) includes blended sources in its lightcurves. Therefore, ground-based photometry was performed on the University of Arizona 90-inch telescope to verify that HD 140982 was not a fainter background eclipsing binary blended by HD 140982. The 90-inch observations confirm that HD 140982 is indeed the eclipsing binary and hasa primary eclipse of 2%. TESS is expected to collect lightcurves of the HD 140982 system in sectors 22, 23, and 24, all with camera 3. These observations are expected to be in February through April 2020 according to the WebTESS Viewing Tool accessed on April 19, 2019. TESS will provide high precision lightcurves to constrain the variability and eclipse timing ephemeris of the system but will experience similar blending as KELT.\n",
    "\n",
    "Radial velocity observations show that HD 140982B is a late M-dwarf companion.The system is relatively bright (K=7.6), shows a short 1.3 hour eclipse, and has a high ecliptic latitude of 73 degrees. Data collection will take 4 hours for the exposure itself to include 1.7 hours before eclipse, 1.3 hours during eclipse and 1 hour after. The total time charged with overhead is 4.84 hours.\n",
    "\n",
    "A backup eclipsing binary that has complementary visibility is HD 5687/TIC 51912829. It was originally flagged as a planet candidate and then later classified as an eclipsing binary. Its eclipse depth is smaller (0.3% in TESS but this is potentially diluted by nearby sources). AO imaging shows no bright neighboring stars. Because of the similar orbital period, eclipse duration and magnitude, this target can be substituted for the primary target with no significant impact to the duration or data volume (the much smaller eclipse depth makes this a less desirable target)."
   ]
  },
  {
   "cell_type": "markdown",
   "id": "5b11e08a",
   "metadata": {},
   "source": [
    "### Import Libraries"
   ]
  },
  {
   "cell_type": "code",
   "execution_count": 1,
   "id": "44191c14",
   "metadata": {},
   "outputs": [
    {
     "ename": "ImportError",
     "evalue": "dlopen(/Users/starburst/anaconda3/envs/astro/lib/python3.7/site-packages/libphoebe.cpython-37m-darwin.so, 2): Symbol not found: __ZTTNSt7__cxx1119basic_istringstreamIcSt11char_traitsIcESaIcEEE\n  Referenced from: /Users/starburst/anaconda3/envs/astro/lib/python3.7/site-packages/libphoebe.cpython-37m-darwin.so\n  Expected in: flat namespace\n in /Users/starburst/anaconda3/envs/astro/lib/python3.7/site-packages/libphoebe.cpython-37m-darwin.so",
     "output_type": "error",
     "traceback": [
      "\u001b[0;31m---------------------------------------------------------------------------\u001b[0m",
      "\u001b[0;31mImportError\u001b[0m                               Traceback (most recent call last)",
      "\u001b[0;32m<ipython-input-1-11b22513b522>\u001b[0m in \u001b[0;36m<module>\u001b[0;34m\u001b[0m\n\u001b[1;32m      4\u001b[0m \u001b[0;32mfrom\u001b[0m \u001b[0mastropy\u001b[0m \u001b[0;32mimport\u001b[0m \u001b[0munits\u001b[0m \u001b[0;32mas\u001b[0m \u001b[0mu\u001b[0m\u001b[0;34m\u001b[0m\u001b[0;34m\u001b[0m\u001b[0m\n\u001b[1;32m      5\u001b[0m \u001b[0;32mimport\u001b[0m \u001b[0mbatman\u001b[0m\u001b[0;34m\u001b[0m\u001b[0;34m\u001b[0m\u001b[0m\n\u001b[0;32m----> 6\u001b[0;31m \u001b[0;32mimport\u001b[0m \u001b[0mphoebe\u001b[0m\u001b[0;34m\u001b[0m\u001b[0;34m\u001b[0m\u001b[0m\n\u001b[0m\u001b[1;32m      7\u001b[0m \u001b[0;32mimport\u001b[0m \u001b[0mh5py\u001b[0m\u001b[0;34m\u001b[0m\u001b[0;34m\u001b[0m\u001b[0m\n\u001b[1;32m      8\u001b[0m \u001b[0;32mimport\u001b[0m \u001b[0mnumpy\u001b[0m \u001b[0;32mas\u001b[0m \u001b[0mnp\u001b[0m\u001b[0;34m\u001b[0m\u001b[0;34m\u001b[0m\u001b[0m\n",
      "\u001b[0;32m~/anaconda3/envs/astro/lib/python3.7/site-packages/phoebe/__init__.py\u001b[0m in \u001b[0;36m<module>\u001b[0;34m\u001b[0m\n\u001b[1;32m    377\u001b[0m \u001b[0;32mfrom\u001b[0m \u001b[0;34m.\u001b[0m\u001b[0mdependencies\u001b[0m\u001b[0;34m.\u001b[0m\u001b[0mnparray\u001b[0m \u001b[0;32mimport\u001b[0m \u001b[0marray\u001b[0m\u001b[0;34m,\u001b[0m \u001b[0mlinspace\u001b[0m\u001b[0;34m,\u001b[0m \u001b[0marange\u001b[0m\u001b[0;34m,\u001b[0m \u001b[0mlogspace\u001b[0m\u001b[0;34m,\u001b[0m \u001b[0mgeomspace\u001b[0m\u001b[0;34m,\u001b[0m \u001b[0minvspace\u001b[0m\u001b[0;34m\u001b[0m\u001b[0;34m\u001b[0m\u001b[0m\n\u001b[1;32m    378\u001b[0m \u001b[0;32mfrom\u001b[0m \u001b[0;34m.\u001b[0m\u001b[0mdependencies\u001b[0m\u001b[0;34m.\u001b[0m\u001b[0mdistl\u001b[0m \u001b[0;32mimport\u001b[0m \u001b[0mgaussian\u001b[0m\u001b[0;34m,\u001b[0m \u001b[0mgaussian_around\u001b[0m\u001b[0;34m,\u001b[0m \u001b[0mnormal\u001b[0m\u001b[0;34m,\u001b[0m \u001b[0mboxcar\u001b[0m\u001b[0;34m,\u001b[0m \u001b[0muniform\u001b[0m\u001b[0;34m,\u001b[0m \u001b[0muniform_around\u001b[0m\u001b[0;34m,\u001b[0m \u001b[0mhistogram_from_bins\u001b[0m\u001b[0;34m,\u001b[0m \u001b[0mhistogram_from_data\u001b[0m\u001b[0;34m,\u001b[0m \u001b[0mmvgaussian\u001b[0m\u001b[0;34m,\u001b[0m \u001b[0mmvhistogram_from_data\u001b[0m\u001b[0;34m\u001b[0m\u001b[0;34m\u001b[0m\u001b[0m\n\u001b[0;32m--> 379\u001b[0;31m \u001b[0;32mfrom\u001b[0m \u001b[0;34m.\u001b[0m\u001b[0matmospheres\u001b[0m\u001b[0;34m.\u001b[0m\u001b[0mpassbands\u001b[0m \u001b[0;32mimport\u001b[0m \u001b[0minstall_passband\u001b[0m\u001b[0;34m,\u001b[0m \u001b[0muninstall_passband\u001b[0m\u001b[0;34m,\u001b[0m \u001b[0muninstall_all_passbands\u001b[0m\u001b[0;34m,\u001b[0m \u001b[0mdownload_passband\u001b[0m\u001b[0;34m,\u001b[0m \u001b[0mlist_passband_online_history\u001b[0m\u001b[0;34m,\u001b[0m \u001b[0mupdate_passband_available\u001b[0m\u001b[0;34m,\u001b[0m \u001b[0mupdate_passband\u001b[0m\u001b[0;34m,\u001b[0m \u001b[0mupdate_all_passbands\u001b[0m\u001b[0;34m,\u001b[0m \u001b[0mlist_all_update_passbands_available\u001b[0m\u001b[0;34m,\u001b[0m \u001b[0mlist_online_passbands\u001b[0m\u001b[0;34m,\u001b[0m \u001b[0mlist_installed_passbands\u001b[0m\u001b[0;34m,\u001b[0m \u001b[0mlist_passbands\u001b[0m\u001b[0;34m,\u001b[0m \u001b[0mlist_passband_directories\u001b[0m\u001b[0;34m,\u001b[0m \u001b[0mget_passband\u001b[0m\u001b[0;34m\u001b[0m\u001b[0;34m\u001b[0m\u001b[0m\n\u001b[0m\u001b[1;32m    380\u001b[0m \u001b[0;32mfrom\u001b[0m \u001b[0;34m.\u001b[0m\u001b[0mparameters\u001b[0m \u001b[0;32mimport\u001b[0m \u001b[0mhierarchy\u001b[0m\u001b[0;34m,\u001b[0m \u001b[0mcomponent\u001b[0m\u001b[0;34m,\u001b[0m \u001b[0mcompute\u001b[0m\u001b[0;34m,\u001b[0m \u001b[0mconstraint\u001b[0m\u001b[0;34m,\u001b[0m \u001b[0mdataset\u001b[0m\u001b[0;34m,\u001b[0m \u001b[0mfeature\u001b[0m\u001b[0;34m,\u001b[0m \u001b[0mfigure\u001b[0m\u001b[0;34m,\u001b[0m \u001b[0msolver\u001b[0m\u001b[0;34m\u001b[0m\u001b[0;34m\u001b[0m\u001b[0m\n\u001b[1;32m    381\u001b[0m \u001b[0;32mfrom\u001b[0m \u001b[0;34m.\u001b[0m\u001b[0mfrontend\u001b[0m\u001b[0;34m.\u001b[0m\u001b[0mbundle\u001b[0m \u001b[0;32mimport\u001b[0m \u001b[0mBundle\u001b[0m\u001b[0;34m\u001b[0m\u001b[0;34m\u001b[0m\u001b[0m\n",
      "\u001b[0;32m~/anaconda3/envs/astro/lib/python3.7/site-packages/phoebe/atmospheres/passbands.py\u001b[0m in \u001b[0;36m<module>\u001b[0;34m\u001b[0m\n\u001b[1;32m     20\u001b[0m \u001b[0;32mimport\u001b[0m \u001b[0mpickle\u001b[0m\u001b[0;34m\u001b[0m\u001b[0;34m\u001b[0m\u001b[0m\n\u001b[1;32m     21\u001b[0m \u001b[0;32mimport\u001b[0m \u001b[0mtypes\u001b[0m\u001b[0;34m\u001b[0m\u001b[0;34m\u001b[0m\u001b[0m\n\u001b[0;32m---> 22\u001b[0;31m \u001b[0;32mimport\u001b[0m \u001b[0mlibphoebe\u001b[0m\u001b[0;34m\u001b[0m\u001b[0;34m\u001b[0m\u001b[0m\n\u001b[0m\u001b[1;32m     23\u001b[0m \u001b[0;32mimport\u001b[0m \u001b[0mos\u001b[0m\u001b[0;34m\u001b[0m\u001b[0;34m\u001b[0m\u001b[0m\n\u001b[1;32m     24\u001b[0m \u001b[0;32mimport\u001b[0m \u001b[0msys\u001b[0m\u001b[0;34m\u001b[0m\u001b[0;34m\u001b[0m\u001b[0m\n",
      "\u001b[0;31mImportError\u001b[0m: dlopen(/Users/starburst/anaconda3/envs/astro/lib/python3.7/site-packages/libphoebe.cpython-37m-darwin.so, 2): Symbol not found: __ZTTNSt7__cxx1119basic_istringstreamIcSt11char_traitsIcESaIcEEE\n  Referenced from: /Users/starburst/anaconda3/envs/astro/lib/python3.7/site-packages/libphoebe.cpython-37m-darwin.so\n  Expected in: flat namespace\n in /Users/starburst/anaconda3/envs/astro/lib/python3.7/site-packages/libphoebe.cpython-37m-darwin.so"
     ]
    }
   ],
   "source": [
    "from astropy.io import fits, ascii\n",
    "from astropy.table import Table\n",
    "from astropy.visualization import simple_norm, imshow_norm\n",
    "from astropy import units as u\n",
    "import batman\n",
    "import phoebe\n",
    "import h5py\n",
    "import numpy as np\n",
    "import matplotlib.pyplot as plt\n",
    "from matplotlib import rcParams; rcParams[\"figure.dpi\"] = 300\n",
    "from matplotlib.ticker import (AutoMinorLocator)\n",
    "from matplotlib import colors\n",
    "import matplotlib.cm as cmx\n",
    "plt.rc('font', family='serif')\n",
    "plt.rc('xtick', labelsize='x-small')\n",
    "plt.rc('ytick', labelsize='x-small')\n",
    "#%matplotlib inline"
   ]
  },
  {
   "cell_type": "markdown",
   "id": "e670c36c",
   "metadata": {},
   "source": [
    "# BATMAN"
   ]
  },
  {
   "cell_type": "code",
   "execution_count": null,
   "id": "5283485a",
   "metadata": {},
   "outputs": [],
   "source": [
    "# ----------  BATMAN Parameters and Light-Curve File  ----------\n",
    "\n",
    "params = batman.TransitParams()       # object to store transit parameters\n",
    "params.t0 = 2458651.789013            # epoch of eclipse center\n",
    "params.per = 1.2696257                # orbital period\n",
    "params.rp = 0.12845                   # planet/EB radius (in units of stellar radii)\n",
    "params.a = 6.5                        # semi-major axis (in units of stellar radii)\n",
    "params.inc = 90                       # orbital inclination (in degrees)\n",
    "params.ecc = 0                        # eccentricity\n",
    "params.w = 90                         # longitude of periastron (in degrees)\n",
    "params.fp = 0                         # planet-to-star flux ratio\n",
    "params.t_secondary = 0                # central eclipse time\n",
    "params.limb_dark = \"quadratic\"        # limb darkening model\n",
    "params.u = [0.038056000, 0.25594800]  # limb darkening coefficients (ExoFAST)\n",
    "nint = 1336\n",
    "times = np.linspace(2458651.688213, 2458651.8898130003, nint) # Total = 4.84 hrs. So, 2.42 hrs = 0.1008 days on either side of t0\n",
    "m = batman.TransitModel(params, times)\n",
    "flux = m.light_curve(params)"
   ]
  },
  {
   "cell_type": "code",
   "execution_count": null,
   "id": "10bbe2b0",
   "metadata": {},
   "outputs": [],
   "source": [
    "# ----------  Plot Light Curve  ----------\n",
    "\n",
    "f, a = plt.subplots(figsize=(20,10))\n",
    "a.plot(times, flux, ls='None', marker='.', ms=2, zorder=1, color='red',label='BATMAN')\n",
    "a.set_xlabel('Time (BJD)')\n",
    "a.set_ylabel('Normalized Flux')\n",
    "a.set_title('HD-140982 Eclipse', fontsize='large', fontweight='bold')\n",
    "a.xaxis.set_minor_locator(AutoMinorLocator()) \n",
    "a.yaxis.set_minor_locator(AutoMinorLocator())\n",
    "a.tick_params(which='minor', length=2.5, color='k')\n",
    "a.legend(loc='best')\n",
    "plt.savefig('HD-140982_LC.png')\n",
    "plt.show()"
   ]
  },
  {
   "cell_type": "code",
   "execution_count": null,
   "id": "4f0ef344",
   "metadata": {},
   "outputs": [],
   "source": []
  }
 ],
 "metadata": {
  "kernelspec": {
   "display_name": "astro",
   "language": "python",
   "name": "astro"
  },
  "language_info": {
   "codemirror_mode": {
    "name": "ipython",
    "version": 3
   },
   "file_extension": ".py",
   "mimetype": "text/x-python",
   "name": "python",
   "nbconvert_exporter": "python",
   "pygments_lexer": "ipython3",
   "version": "3.7.10"
  }
 },
 "nbformat": 4,
 "nbformat_minor": 5
}
